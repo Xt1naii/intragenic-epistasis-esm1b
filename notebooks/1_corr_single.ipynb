{
 "cells": [
  {
   "cell_type": "code",
   "execution_count": 1,
   "metadata": {},
   "outputs": [],
   "source": [
    "import pandas as pd\n",
    "from tqdm import tqdm\n",
    "from scipy.stats import spearmanr\n",
    "import matplotlib.pyplot as plt\n",
    "import seaborn as sns\n",
    "sns.set(rc={'figure.figsize':(8,5)})"
   ]
  },
  {
   "cell_type": "code",
   "execution_count": 2,
   "metadata": {},
   "outputs": [],
   "source": [
    "single = pd.read_csv(\"../data/single.main.tsv\", sep='\\t')"
   ]
  },
  {
   "cell_type": "code",
   "execution_count": 3,
   "metadata": {},
   "outputs": [],
   "source": [
    "single = single.rename(columns={'#Dataset': 'Dataset'})"
   ]
  },
  {
   "cell_type": "code",
   "execution_count": 4,
   "metadata": {},
   "outputs": [],
   "source": [
    "result = pd.read_csv(\"../result.native.llr.tsv\")\n",
    "result['esm1b_score'] = pd.to_numeric(result['esm1b_score'], errors='coerce')"
   ]
  },
  {
   "cell_type": "code",
   "execution_count": 5,
   "metadata": {},
   "outputs": [],
   "source": [
    "def get_esm_score(df1, df2):\n",
    "    scores = []\n",
    "    for protein, pos, aa1, aa2 in tqdm(zip(df2[\"Protein\"], df2[\"Pos.A\"], df2[\"AA1.A\"], df2[\"AA2.A\"])):\n",
    "        try:\n",
    "            score = df1[(df1.uniprot_id == protein) & (df1.row == aa1 + ' ' + str(pos)) & (df1.column == aa2)]['esm1b_score'].values[0]\n",
    "            scores.append(score)\n",
    "        except:\n",
    "            score = None\n",
    "            scores.append(score)\n",
    "    return scores"
   ]
  },
  {
   "cell_type": "code",
   "execution_count": 6,
   "metadata": {},
   "outputs": [
    {
     "name": "stderr",
     "output_type": "stream",
     "text": [
      "8520it [01:33, 91.54it/s]\n"
     ]
    }
   ],
   "source": [
    "scores = get_esm_score(result, single)"
   ]
  },
  {
   "cell_type": "code",
   "execution_count": 7,
   "metadata": {},
   "outputs": [
    {
     "data": {
      "text/plain": [
       "8520"
      ]
     },
     "execution_count": 7,
     "metadata": {},
     "output_type": "execute_result"
    }
   ],
   "source": [
    "len(scores)"
   ]
  },
  {
   "cell_type": "code",
   "execution_count": 8,
   "metadata": {},
   "outputs": [],
   "source": [
    "single['Score.Esm1b'] = scores"
   ]
  },
  {
   "cell_type": "code",
   "execution_count": 9,
   "metadata": {},
   "outputs": [
    {
     "data": {
      "text/plain": [
       "29"
      ]
     },
     "execution_count": 9,
     "metadata": {},
     "output_type": "execute_result"
    }
   ],
   "source": [
    "single[\"Score.Esm1b\"].isna().sum()"
   ]
  },
  {
   "cell_type": "code",
   "execution_count": 10,
   "metadata": {},
   "outputs": [
    {
     "data": {
      "text/html": [
       "<div>\n",
       "<style scoped>\n",
       "    .dataframe tbody tr th:only-of-type {\n",
       "        vertical-align: middle;\n",
       "    }\n",
       "\n",
       "    .dataframe tbody tr th {\n",
       "        vertical-align: top;\n",
       "    }\n",
       "\n",
       "    .dataframe thead th {\n",
       "        text-align: right;\n",
       "    }\n",
       "</style>\n",
       "<table border=\"1\" class=\"dataframe\">\n",
       "  <thead>\n",
       "    <tr style=\"text-align: right;\">\n",
       "      <th></th>\n",
       "      <th>Dataset</th>\n",
       "      <th>Protein</th>\n",
       "      <th>Pos.A</th>\n",
       "      <th>AA1.A</th>\n",
       "      <th>AA2.A</th>\n",
       "      <th>Score.A</th>\n",
       "      <th>Score.Esm1b</th>\n",
       "    </tr>\n",
       "  </thead>\n",
       "  <tbody>\n",
       "    <tr>\n",
       "      <th>1026</th>\n",
       "      <td>maveDB_15</td>\n",
       "      <td>SPG1_STRSG</td>\n",
       "      <td>228</td>\n",
       "      <td>Q</td>\n",
       "      <td>A</td>\n",
       "      <td>0.602</td>\n",
       "      <td>NaN</td>\n",
       "    </tr>\n",
       "    <tr>\n",
       "      <th>1027</th>\n",
       "      <td>maveDB_15</td>\n",
       "      <td>SPG1_STRSG</td>\n",
       "      <td>228</td>\n",
       "      <td>Q</td>\n",
       "      <td>C</td>\n",
       "      <td>0.034</td>\n",
       "      <td>NaN</td>\n",
       "    </tr>\n",
       "    <tr>\n",
       "      <th>1028</th>\n",
       "      <td>maveDB_15</td>\n",
       "      <td>SPG1_STRSG</td>\n",
       "      <td>228</td>\n",
       "      <td>Q</td>\n",
       "      <td>D</td>\n",
       "      <td>-0.134</td>\n",
       "      <td>NaN</td>\n",
       "    </tr>\n",
       "    <tr>\n",
       "      <th>1029</th>\n",
       "      <td>maveDB_15</td>\n",
       "      <td>SPG1_STRSG</td>\n",
       "      <td>228</td>\n",
       "      <td>Q</td>\n",
       "      <td>E</td>\n",
       "      <td>-0.071</td>\n",
       "      <td>NaN</td>\n",
       "    </tr>\n",
       "    <tr>\n",
       "      <th>1030</th>\n",
       "      <td>maveDB_15</td>\n",
       "      <td>SPG1_STRSG</td>\n",
       "      <td>228</td>\n",
       "      <td>Q</td>\n",
       "      <td>F</td>\n",
       "      <td>0.693</td>\n",
       "      <td>NaN</td>\n",
       "    </tr>\n",
       "    <tr>\n",
       "      <th>1031</th>\n",
       "      <td>maveDB_15</td>\n",
       "      <td>SPG1_STRSG</td>\n",
       "      <td>228</td>\n",
       "      <td>Q</td>\n",
       "      <td>G</td>\n",
       "      <td>0.367</td>\n",
       "      <td>NaN</td>\n",
       "    </tr>\n",
       "    <tr>\n",
       "      <th>1032</th>\n",
       "      <td>maveDB_15</td>\n",
       "      <td>SPG1_STRSG</td>\n",
       "      <td>228</td>\n",
       "      <td>Q</td>\n",
       "      <td>H</td>\n",
       "      <td>0.294</td>\n",
       "      <td>NaN</td>\n",
       "    </tr>\n",
       "    <tr>\n",
       "      <th>1033</th>\n",
       "      <td>maveDB_15</td>\n",
       "      <td>SPG1_STRSG</td>\n",
       "      <td>228</td>\n",
       "      <td>Q</td>\n",
       "      <td>I</td>\n",
       "      <td>0.345</td>\n",
       "      <td>NaN</td>\n",
       "    </tr>\n",
       "    <tr>\n",
       "      <th>1034</th>\n",
       "      <td>maveDB_15</td>\n",
       "      <td>SPG1_STRSG</td>\n",
       "      <td>228</td>\n",
       "      <td>Q</td>\n",
       "      <td>K</td>\n",
       "      <td>0.413</td>\n",
       "      <td>NaN</td>\n",
       "    </tr>\n",
       "    <tr>\n",
       "      <th>1035</th>\n",
       "      <td>maveDB_15</td>\n",
       "      <td>SPG1_STRSG</td>\n",
       "      <td>228</td>\n",
       "      <td>Q</td>\n",
       "      <td>L</td>\n",
       "      <td>0.458</td>\n",
       "      <td>NaN</td>\n",
       "    </tr>\n",
       "    <tr>\n",
       "      <th>1036</th>\n",
       "      <td>maveDB_15</td>\n",
       "      <td>SPG1_STRSG</td>\n",
       "      <td>228</td>\n",
       "      <td>Q</td>\n",
       "      <td>M</td>\n",
       "      <td>0.531</td>\n",
       "      <td>NaN</td>\n",
       "    </tr>\n",
       "    <tr>\n",
       "      <th>1037</th>\n",
       "      <td>maveDB_15</td>\n",
       "      <td>SPG1_STRSG</td>\n",
       "      <td>228</td>\n",
       "      <td>Q</td>\n",
       "      <td>N</td>\n",
       "      <td>0.179</td>\n",
       "      <td>NaN</td>\n",
       "    </tr>\n",
       "    <tr>\n",
       "      <th>1038</th>\n",
       "      <td>maveDB_15</td>\n",
       "      <td>SPG1_STRSG</td>\n",
       "      <td>228</td>\n",
       "      <td>Q</td>\n",
       "      <td>P</td>\n",
       "      <td>0.510</td>\n",
       "      <td>NaN</td>\n",
       "    </tr>\n",
       "    <tr>\n",
       "      <th>1039</th>\n",
       "      <td>maveDB_15</td>\n",
       "      <td>SPG1_STRSG</td>\n",
       "      <td>228</td>\n",
       "      <td>Q</td>\n",
       "      <td>R</td>\n",
       "      <td>0.630</td>\n",
       "      <td>NaN</td>\n",
       "    </tr>\n",
       "    <tr>\n",
       "      <th>1040</th>\n",
       "      <td>maveDB_15</td>\n",
       "      <td>SPG1_STRSG</td>\n",
       "      <td>228</td>\n",
       "      <td>Q</td>\n",
       "      <td>S</td>\n",
       "      <td>0.350</td>\n",
       "      <td>NaN</td>\n",
       "    </tr>\n",
       "    <tr>\n",
       "      <th>1041</th>\n",
       "      <td>maveDB_15</td>\n",
       "      <td>SPG1_STRSG</td>\n",
       "      <td>228</td>\n",
       "      <td>Q</td>\n",
       "      <td>T</td>\n",
       "      <td>0.406</td>\n",
       "      <td>NaN</td>\n",
       "    </tr>\n",
       "    <tr>\n",
       "      <th>1042</th>\n",
       "      <td>maveDB_15</td>\n",
       "      <td>SPG1_STRSG</td>\n",
       "      <td>228</td>\n",
       "      <td>Q</td>\n",
       "      <td>V</td>\n",
       "      <td>0.234</td>\n",
       "      <td>NaN</td>\n",
       "    </tr>\n",
       "    <tr>\n",
       "      <th>1043</th>\n",
       "      <td>maveDB_15</td>\n",
       "      <td>SPG1_STRSG</td>\n",
       "      <td>228</td>\n",
       "      <td>Q</td>\n",
       "      <td>W</td>\n",
       "      <td>0.542</td>\n",
       "      <td>NaN</td>\n",
       "    </tr>\n",
       "    <tr>\n",
       "      <th>1044</th>\n",
       "      <td>maveDB_15</td>\n",
       "      <td>SPG1_STRSG</td>\n",
       "      <td>228</td>\n",
       "      <td>Q</td>\n",
       "      <td>Y</td>\n",
       "      <td>0.478</td>\n",
       "      <td>NaN</td>\n",
       "    </tr>\n",
       "    <tr>\n",
       "      <th>3319</th>\n",
       "      <td>maveDB_8</td>\n",
       "      <td>BRCA1_HUMAN</td>\n",
       "      <td>175</td>\n",
       "      <td>R</td>\n",
       "      <td>K</td>\n",
       "      <td>-0.273</td>\n",
       "      <td>NaN</td>\n",
       "    </tr>\n",
       "    <tr>\n",
       "      <th>3586</th>\n",
       "      <td>maveDB_8</td>\n",
       "      <td>BRCA1_HUMAN</td>\n",
       "      <td>175</td>\n",
       "      <td>R</td>\n",
       "      <td>W</td>\n",
       "      <td>0.353</td>\n",
       "      <td>NaN</td>\n",
       "    </tr>\n",
       "    <tr>\n",
       "      <th>3976</th>\n",
       "      <td>maveDB_8</td>\n",
       "      <td>BRCA1_HUMAN</td>\n",
       "      <td>175</td>\n",
       "      <td>R</td>\n",
       "      <td>G</td>\n",
       "      <td>-1.805</td>\n",
       "      <td>NaN</td>\n",
       "    </tr>\n",
       "    <tr>\n",
       "      <th>4389</th>\n",
       "      <td>maveDB_8</td>\n",
       "      <td>BRCA1_HUMAN</td>\n",
       "      <td>175</td>\n",
       "      <td>R</td>\n",
       "      <td>M</td>\n",
       "      <td>0.761</td>\n",
       "      <td>NaN</td>\n",
       "    </tr>\n",
       "    <tr>\n",
       "      <th>4869</th>\n",
       "      <td>maveDB_8</td>\n",
       "      <td>BRCA1_HUMAN</td>\n",
       "      <td>175</td>\n",
       "      <td>R</td>\n",
       "      <td>S</td>\n",
       "      <td>0.244</td>\n",
       "      <td>NaN</td>\n",
       "    </tr>\n",
       "    <tr>\n",
       "      <th>5010</th>\n",
       "      <td>maveDB_8</td>\n",
       "      <td>BRCA1_HUMAN</td>\n",
       "      <td>175</td>\n",
       "      <td>R</td>\n",
       "      <td>I</td>\n",
       "      <td>0.780</td>\n",
       "      <td>NaN</td>\n",
       "    </tr>\n",
       "    <tr>\n",
       "      <th>5455</th>\n",
       "      <td>maveDB_8</td>\n",
       "      <td>BRCA1_HUMAN</td>\n",
       "      <td>175</td>\n",
       "      <td>R</td>\n",
       "      <td>V</td>\n",
       "      <td>-0.127</td>\n",
       "      <td>NaN</td>\n",
       "    </tr>\n",
       "    <tr>\n",
       "      <th>5905</th>\n",
       "      <td>maveDB_6</td>\n",
       "      <td>BRCA1_HUMAN</td>\n",
       "      <td>175</td>\n",
       "      <td>R</td>\n",
       "      <td>K</td>\n",
       "      <td>0.514</td>\n",
       "      <td>NaN</td>\n",
       "    </tr>\n",
       "    <tr>\n",
       "      <th>6977</th>\n",
       "      <td>maveDB_6</td>\n",
       "      <td>BRCA1_HUMAN</td>\n",
       "      <td>175</td>\n",
       "      <td>R</td>\n",
       "      <td>M</td>\n",
       "      <td>-0.048</td>\n",
       "      <td>NaN</td>\n",
       "    </tr>\n",
       "    <tr>\n",
       "      <th>7429</th>\n",
       "      <td>maveDB_6</td>\n",
       "      <td>BRCA1_HUMAN</td>\n",
       "      <td>175</td>\n",
       "      <td>R</td>\n",
       "      <td>W</td>\n",
       "      <td>0.194</td>\n",
       "      <td>NaN</td>\n",
       "    </tr>\n",
       "  </tbody>\n",
       "</table>\n",
       "</div>"
      ],
      "text/plain": [
       "        Dataset      Protein  Pos.A AA1.A AA2.A  Score.A  Score.Esm1b\n",
       "1026  maveDB_15   SPG1_STRSG    228     Q     A    0.602          NaN\n",
       "1027  maveDB_15   SPG1_STRSG    228     Q     C    0.034          NaN\n",
       "1028  maveDB_15   SPG1_STRSG    228     Q     D   -0.134          NaN\n",
       "1029  maveDB_15   SPG1_STRSG    228     Q     E   -0.071          NaN\n",
       "1030  maveDB_15   SPG1_STRSG    228     Q     F    0.693          NaN\n",
       "1031  maveDB_15   SPG1_STRSG    228     Q     G    0.367          NaN\n",
       "1032  maveDB_15   SPG1_STRSG    228     Q     H    0.294          NaN\n",
       "1033  maveDB_15   SPG1_STRSG    228     Q     I    0.345          NaN\n",
       "1034  maveDB_15   SPG1_STRSG    228     Q     K    0.413          NaN\n",
       "1035  maveDB_15   SPG1_STRSG    228     Q     L    0.458          NaN\n",
       "1036  maveDB_15   SPG1_STRSG    228     Q     M    0.531          NaN\n",
       "1037  maveDB_15   SPG1_STRSG    228     Q     N    0.179          NaN\n",
       "1038  maveDB_15   SPG1_STRSG    228     Q     P    0.510          NaN\n",
       "1039  maveDB_15   SPG1_STRSG    228     Q     R    0.630          NaN\n",
       "1040  maveDB_15   SPG1_STRSG    228     Q     S    0.350          NaN\n",
       "1041  maveDB_15   SPG1_STRSG    228     Q     T    0.406          NaN\n",
       "1042  maveDB_15   SPG1_STRSG    228     Q     V    0.234          NaN\n",
       "1043  maveDB_15   SPG1_STRSG    228     Q     W    0.542          NaN\n",
       "1044  maveDB_15   SPG1_STRSG    228     Q     Y    0.478          NaN\n",
       "3319   maveDB_8  BRCA1_HUMAN    175     R     K   -0.273          NaN\n",
       "3586   maveDB_8  BRCA1_HUMAN    175     R     W    0.353          NaN\n",
       "3976   maveDB_8  BRCA1_HUMAN    175     R     G   -1.805          NaN\n",
       "4389   maveDB_8  BRCA1_HUMAN    175     R     M    0.761          NaN\n",
       "4869   maveDB_8  BRCA1_HUMAN    175     R     S    0.244          NaN\n",
       "5010   maveDB_8  BRCA1_HUMAN    175     R     I    0.780          NaN\n",
       "5455   maveDB_8  BRCA1_HUMAN    175     R     V   -0.127          NaN\n",
       "5905   maveDB_6  BRCA1_HUMAN    175     R     K    0.514          NaN\n",
       "6977   maveDB_6  BRCA1_HUMAN    175     R     M   -0.048          NaN\n",
       "7429   maveDB_6  BRCA1_HUMAN    175     R     W    0.194          NaN"
      ]
     },
     "execution_count": 10,
     "metadata": {},
     "output_type": "execute_result"
    }
   ],
   "source": [
    "single[single[\"Score.Esm1b\"].isna()]"
   ]
  },
  {
   "cell_type": "code",
   "execution_count": 11,
   "metadata": {},
   "outputs": [
    {
     "data": {
      "text/plain": [
       "array(['SPG1_STRSG', 'UBE4B_MOUSE', 'PABP_YEAST', 'YAP1_HUMAN',\n",
       "       'BRCA1_HUMAN', 'UBC9_HUMAN'], dtype=object)"
      ]
     },
     "execution_count": 11,
     "metadata": {},
     "output_type": "execute_result"
    }
   ],
   "source": [
    "single.Protein.unique()"
   ]
  },
  {
   "cell_type": "code",
   "execution_count": 19,
   "metadata": {},
   "outputs": [],
   "source": [
    "single_not_na = single.dropna()"
   ]
  },
  {
   "cell_type": "code",
   "execution_count": 20,
   "metadata": {},
   "outputs": [
    {
     "data": {
      "text/plain": [
       "0"
      ]
     },
     "execution_count": 20,
     "metadata": {},
     "output_type": "execute_result"
    }
   ],
   "source": [
    "single_not_na['Score.Esm1b'].isna().sum()"
   ]
  },
  {
   "cell_type": "code",
   "execution_count": 22,
   "metadata": {},
   "outputs": [],
   "source": [
    "mask_6 = (single_not_na['Protein'] == 'BRCA1_HUMAN') & (single_not_na['Dataset'] == 'maveDB_6')\n",
    "mask_8 = (single_not_na['Protein'] == 'BRCA1_HUMAN') & (single_not_na['Dataset'] == 'maveDB_8')"
   ]
  },
  {
   "cell_type": "code",
   "execution_count": 23,
   "metadata": {},
   "outputs": [],
   "source": [
    "single_not_na.loc[mask_6, 'Protein'] = 'BRCA1_HUMAN_1'\n",
    "single_not_na.loc[mask_8, 'Protein'] = 'BRCA1_HUMAN_2'"
   ]
  },
  {
   "cell_type": "code",
   "execution_count": 24,
   "metadata": {},
   "outputs": [
    {
     "name": "stdout",
     "output_type": "stream",
     "text": [
      "SPG1_STRSG\n",
      "UBE4B_MOUSE\n",
      "PABP_YEAST\n",
      "YAP1_HUMAN\n",
      "BRCA1_HUMAN_2\n",
      "BRCA1_HUMAN_1\n",
      "UBC9_HUMAN\n"
     ]
    }
   ],
   "source": [
    "for prot in single_not_na.Protein.unique():\n",
    "    print(prot)"
   ]
  },
  {
   "cell_type": "code",
   "execution_count": 25,
   "metadata": {},
   "outputs": [
    {
     "data": {
      "text/html": [
       "<div>\n",
       "<style scoped>\n",
       "    .dataframe tbody tr th:only-of-type {\n",
       "        vertical-align: middle;\n",
       "    }\n",
       "\n",
       "    .dataframe tbody tr th {\n",
       "        vertical-align: top;\n",
       "    }\n",
       "\n",
       "    .dataframe thead tr th {\n",
       "        text-align: left;\n",
       "    }\n",
       "</style>\n",
       "<table border=\"1\" class=\"dataframe\">\n",
       "  <thead>\n",
       "    <tr>\n",
       "      <th></th>\n",
       "      <th>SPG1_STRSG</th>\n",
       "      <th>UBE4B_MOUSE</th>\n",
       "      <th>PABP_YEAST</th>\n",
       "      <th>YAP1_HUMAN</th>\n",
       "      <th>BRCA1_HUMAN_2</th>\n",
       "      <th>BRCA1_HUMAN_1</th>\n",
       "      <th>UBC9_HUMAN</th>\n",
       "    </tr>\n",
       "  </thead>\n",
       "  <tbody>\n",
       "    <tr>\n",
       "      <th>spearmanr</th>\n",
       "      <td>0.273374</td>\n",
       "      <td>0.434379</td>\n",
       "      <td>0.616402</td>\n",
       "      <td>0.561296</td>\n",
       "      <td>0.045095</td>\n",
       "      <td>0.266067</td>\n",
       "      <td>0.410937</td>\n",
       "    </tr>\n",
       "    <tr>\n",
       "      <th>p_value</th>\n",
       "      <td>0.0</td>\n",
       "      <td>0.0</td>\n",
       "      <td>0.0</td>\n",
       "      <td>0.0</td>\n",
       "      <td>0.0237</td>\n",
       "      <td>0.0</td>\n",
       "      <td>0.0</td>\n",
       "    </tr>\n",
       "  </tbody>\n",
       "</table>\n",
       "</div>"
      ],
      "text/plain": [
       "          SPG1_STRSG UBE4B_MOUSE PABP_YEAST YAP1_HUMAN BRCA1_HUMAN_2  \\\n",
       "spearmanr   0.273374    0.434379   0.616402   0.561296      0.045095   \n",
       "p_value          0.0         0.0        0.0        0.0        0.0237   \n",
       "\n",
       "          BRCA1_HUMAN_1 UBC9_HUMAN  \n",
       "spearmanr      0.266067   0.410937  \n",
       "p_value             0.0        0.0  "
      ]
     },
     "execution_count": 25,
     "metadata": {},
     "output_type": "execute_result"
    }
   ],
   "source": [
    "corr = pd.DataFrame(columns=[single_not_na.Protein.unique()], index=['spearmanr', 'p_value'])\n",
    "\n",
    "for prot in single_not_na.Protein.unique():\n",
    "    corr_res, p_value = spearmanr(single_not_na[single_not_na['Protein'] == prot]['Score.Esm1b'], single_not_na[single_not_na['Protein'] == prot]['Score.A'])\n",
    "    corr.loc['spearmanr', prot] = corr_res\n",
    "    corr.loc['p_value', prot] = p_value\n",
    "\n",
    "corr"
   ]
  },
  {
   "cell_type": "code",
   "execution_count": 71,
   "metadata": {},
   "outputs": [
    {
     "data": {
      "text/plain": [
       "SignificanceResult(statistic=0.37120783532463936, pvalue=1.163958234888451e-275)"
      ]
     },
     "execution_count": 71,
     "metadata": {},
     "output_type": "execute_result"
    }
   ],
   "source": [
    "spearmanr(single_not_na['Score.A'], single_not_na['Score.Esm1b'])"
   ]
  }
 ],
 "metadata": {
  "kernelspec": {
   "display_name": "hse_ml",
   "language": "python",
   "name": "python3"
  },
  "language_info": {
   "codemirror_mode": {
    "name": "ipython",
    "version": 3
   },
   "file_extension": ".py",
   "mimetype": "text/x-python",
   "name": "python",
   "nbconvert_exporter": "python",
   "pygments_lexer": "ipython3",
   "version": "3.10.14 | packaged by conda-forge | (main, Mar 20 2024, 12:53:34) [Clang 16.0.6 ]"
  },
  "orig_nbformat": 4,
  "vscode": {
   "interpreter": {
    "hash": "f5eef07a7fd8005e107dfdf83f47deb1eb1418a1848ec9c52890998f550f026f"
   }
  }
 },
 "nbformat": 4,
 "nbformat_minor": 2
}
