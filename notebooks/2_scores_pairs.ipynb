{
 "cells": [
  {
   "cell_type": "code",
   "execution_count": 1,
   "metadata": {},
   "outputs": [],
   "source": [
    "import pandas as pd\n",
    "import os\n",
    "import numpy as np\n",
    "from scipy.stats import pearsonr\n",
    "from tqdm import tqdm"
   ]
  },
  {
   "cell_type": "code",
   "execution_count": 2,
   "metadata": {},
   "outputs": [],
   "source": [
    "def get_esm_score_for_с(df1, df2):\n",
    "    scores = []\n",
    "    for protein, pos, aa1, aa2 in tqdm(zip(df2[\"Protein\"], df2[\"Pos.C\"], df2[\"AA1.C\"], df2[\"AA2.C\"])):\n",
    "        try:\n",
    "            score = df1[(df1.uniprot_id == protein) & (df1.row == aa1 + ' ' + str(pos)) & (df1.column == aa2)]['esm1b_score'].values[0]\n",
    "        except:\n",
    "            score = None\n",
    "        scores.append(score)\n",
    "    return scores"
   ]
  },
  {
   "cell_type": "code",
   "execution_count": 3,
   "metadata": {},
   "outputs": [],
   "source": [
    "def get_esm_score_for_a(df1, df2):\n",
    "    scores = []\n",
    "    for protein, pos, aa1, aa2 in tqdm(zip(df2[\"Protein\"], df2[\"Pos.A\"], df2[\"AA1.A\"], df2[\"AA2.A\"])):\n",
    "        try:\n",
    "            score = df1[(df1.uniprot_id == protein) & (df1.row == aa1 + ' ' + str(pos)) & (df1.column == aa2)]['esm1b_score'].values[0]\n",
    "        except:\n",
    "            score = None\n",
    "        scores.append(score)\n",
    "    return scores"
   ]
  },
  {
   "cell_type": "code",
   "execution_count": 4,
   "metadata": {},
   "outputs": [],
   "source": [
    "res = pd.read_csv(\"result.native.llr.tsv\")\n",
    "res['esm1b_score'] = pd.to_numeric(res['esm1b_score'], errors='coerce')\n",
    "res = res[~res['esm1b_score'].isna()]\n"
   ]
  },
  {
   "attachments": {},
   "cell_type": "markdown",
   "metadata": {},
   "source": [
    "# UBC9"
   ]
  },
  {
   "cell_type": "code",
   "execution_count": 14,
   "metadata": {},
   "outputs": [],
   "source": [
    "ubc9 = pd.read_csv(\"data_per_dataset/pairs_ubc9.tsv\", sep='\\t')"
   ]
  },
  {
   "cell_type": "code",
   "execution_count": 15,
   "metadata": {},
   "outputs": [],
   "source": [
    "ubc9[\"Score.A'.Esm1b\"] = None"
   ]
  },
  {
   "cell_type": "code",
   "execution_count": 16,
   "metadata": {},
   "outputs": [
    {
     "name": "stderr",
     "output_type": "stream",
     "text": [
      "2302it [00:24, 94.81it/s]\n",
      "2302it [00:24, 93.83it/s]"
     ]
    },
    {
     "name": "stdout",
     "output_type": "stream",
     "text": [
      "CPU times: user 48.5 s, sys: 376 ms, total: 48.8 s\n",
      "Wall time: 48.8 s\n"
     ]
    },
    {
     "name": "stderr",
     "output_type": "stream",
     "text": [
      "\n"
     ]
    }
   ],
   "source": [
    "%%time\n",
    "\n",
    "scores_c = get_esm_score_for_с(res, ubc9)\n",
    "scores_a = get_esm_score_for_a(res, ubc9)\n",
    "\n",
    "ubc9['Score.C.Esm1b'] = scores_c\n",
    "ubc9['Score.A.Esm1b'] = scores_a"
   ]
  },
  {
   "cell_type": "code",
   "execution_count": 17,
   "metadata": {},
   "outputs": [
    {
     "name": "stdout",
     "output_type": "stream",
     "text": [
      "CPU times: user 3.99 s, sys: 73.1 ms, total: 4.07 s\n",
      "Wall time: 4.26 s\n"
     ]
    }
   ],
   "source": [
    "%%time\n",
    "\n",
    "for i, row in enumerate(ubc9.iterrows()):\n",
    "    _, uniprot_id, pos_c, aa1_c, aa2_c, score_c, pos_a, aa1_a, aa2_a, score_a, score_a_dash, score_delta, score_a_dash, score_c_esm, score_a_esm = row[1]\n",
    "    try:\n",
    "        data = pd.read_csv(f'res_all_scores/ubc9/ubc9_all/ubc9_all/UBC9_{aa1_c}{pos_c}{aa2_c}.modified.tsv')\n",
    "        ubc9.loc[i, \"Score.A'.Esm1b\"] = data[(data['row'] == aa1_a + ' ' + str(pos_a)) & (data.column == aa2_a)]['esm1b_score'].values[0]\n",
    "    except:\n",
    "        ('NO')"
   ]
  },
  {
   "cell_type": "code",
   "execution_count": 19,
   "metadata": {},
   "outputs": [
    {
     "data": {
      "text/plain": [
       "1"
      ]
     },
     "execution_count": 19,
     "metadata": {},
     "output_type": "execute_result"
    }
   ],
   "source": [
    "ubc9[\"Score.A'.Esm1b\"].isna().sum()"
   ]
  },
  {
   "cell_type": "code",
   "execution_count": 28,
   "metadata": {},
   "outputs": [],
   "source": [
    "ubc9.to_csv('ubc9_all.tsv', sep='\\t', index=False)"
   ]
  },
  {
   "attachments": {},
   "cell_type": "markdown",
   "metadata": {},
   "source": [
    "### YAP1"
   ]
  },
  {
   "cell_type": "code",
   "execution_count": 30,
   "metadata": {},
   "outputs": [],
   "source": [
    "yap1 = pd.read_csv(\"data_per_dataset/pairs_yap1.tsv\", sep='\\t')"
   ]
  },
  {
   "cell_type": "code",
   "execution_count": 31,
   "metadata": {},
   "outputs": [
    {
     "data": {
      "text/plain": [
       "(38720, 12)"
      ]
     },
     "execution_count": 31,
     "metadata": {},
     "output_type": "execute_result"
    }
   ],
   "source": [
    "yap1.shape"
   ]
  },
  {
   "cell_type": "code",
   "execution_count": 33,
   "metadata": {},
   "outputs": [],
   "source": [
    "yap1[\"Score.A'.Esm1b\"] = None"
   ]
  },
  {
   "cell_type": "code",
   "execution_count": 41,
   "metadata": {},
   "outputs": [
    {
     "name": "stderr",
     "output_type": "stream",
     "text": [
      "38720it [02:28, 260.97it/s]"
     ]
    },
    {
     "name": "stdout",
     "output_type": "stream",
     "text": [
      "CPU times: user 2min 25s, sys: 2.3 s, total: 2min 28s\n",
      "Wall time: 2min 28s\n"
     ]
    },
    {
     "name": "stderr",
     "output_type": "stream",
     "text": [
      "\n"
     ]
    }
   ],
   "source": [
    "%%time\n",
    "\n",
    "for i, row in tqdm(enumerate(yap1.iterrows())):\n",
    "    _, uniprot_id, pos_c, aa1_c, aa2_c, score_c, pos_a, aa1_a, aa2_a, score_a, score_a_dash, score_delta, score_a_dash, score_c_esm, score_a_esm = row[1]\n",
    "    try:\n",
    "        data = pd.read_csv(f'res_all_scores/yap1/yap1_all/YAP1_{aa1_c}{pos_c}{aa2_c}.modified.tsv')\n",
    "        yap1.loc[i, \"Score.A'.Esm1b\"] = data[(data['row'] == aa1_a + ' ' + str(pos_a)) & (data.column == aa2_a)]['esm1b_score'].values[0]\n",
    "    except:\n",
    "        ('NO')"
   ]
  },
  {
   "cell_type": "code",
   "execution_count": 42,
   "metadata": {},
   "outputs": [
    {
     "data": {
      "text/plain": [
       "0"
      ]
     },
     "execution_count": 42,
     "metadata": {},
     "output_type": "execute_result"
    }
   ],
   "source": [
    "yap1[\"Score.A'.Esm1b\"].isna().sum()"
   ]
  },
  {
   "cell_type": "code",
   "execution_count": 32,
   "metadata": {},
   "outputs": [
    {
     "name": "stderr",
     "output_type": "stream",
     "text": [
      "38720it [06:52, 93.86it/s]\n",
      "38720it [06:56, 92.86it/s]"
     ]
    },
    {
     "name": "stdout",
     "output_type": "stream",
     "text": [
      "CPU times: user 13min 43s, sys: 4.83 s, total: 13min 48s\n",
      "Wall time: 13min 49s\n"
     ]
    },
    {
     "name": "stderr",
     "output_type": "stream",
     "text": [
      "\n"
     ]
    }
   ],
   "source": [
    "%%time\n",
    "\n",
    "scores_c = get_esm_score_for_с(res, yap1)\n",
    "scores_a = get_esm_score_for_a(res, yap1)\n",
    "\n",
    "yap1['Score.C.Esm1b'] = scores_c\n",
    "yap1['Score.A.Esm1b'] = scores_a"
   ]
  },
  {
   "cell_type": "code",
   "execution_count": 43,
   "metadata": {},
   "outputs": [],
   "source": [
    "yap1.to_csv('res_fin_df/yap1_all.tsv', sep='\\t', index=False)"
   ]
  },
  {
   "attachments": {},
   "cell_type": "markdown",
   "metadata": {},
   "source": [
    "### BRCA1 db 6"
   ]
  },
  {
   "cell_type": "code",
   "execution_count": 44,
   "metadata": {},
   "outputs": [],
   "source": [
    "brca1_db6 = pd.read_csv(\"data_per_dataset/pairs_brca1_db6.tsv\", sep='\\t')"
   ]
  },
  {
   "cell_type": "code",
   "execution_count": 46,
   "metadata": {},
   "outputs": [
    {
     "name": "stderr",
     "output_type": "stream",
     "text": [
      "4304it [00:46, 92.17it/s]\n",
      "4304it [00:46, 92.16it/s]"
     ]
    },
    {
     "name": "stdout",
     "output_type": "stream",
     "text": [
      "CPU times: user 1min 32s, sys: 722 ms, total: 1min 33s\n",
      "Wall time: 1min 33s\n"
     ]
    },
    {
     "name": "stderr",
     "output_type": "stream",
     "text": [
      "\n"
     ]
    }
   ],
   "source": [
    "%%time\n",
    "\n",
    "scores_c = get_esm_score_for_с(res, brca1_db6)\n",
    "scores_a = get_esm_score_for_a(res, brca1_db6)\n",
    "\n",
    "brca1_db6['Score.C.Esm1b'] = scores_c\n",
    "brca1_db6['Score.A.Esm1b'] = scores_a"
   ]
  },
  {
   "cell_type": "code",
   "execution_count": 47,
   "metadata": {},
   "outputs": [],
   "source": [
    "brca1_db6[\"Score.A'.Esm1b\"] = None"
   ]
  },
  {
   "cell_type": "code",
   "execution_count": 48,
   "metadata": {},
   "outputs": [
    {
     "name": "stderr",
     "output_type": "stream",
     "text": [
      "4304it [00:52, 81.88it/s] "
     ]
    },
    {
     "name": "stdout",
     "output_type": "stream",
     "text": [
      "CPU times: user 50.5 s, sys: 972 ms, total: 51.4 s\n",
      "Wall time: 52.6 s\n"
     ]
    },
    {
     "name": "stderr",
     "output_type": "stream",
     "text": [
      "\n"
     ]
    }
   ],
   "source": [
    "%%time\n",
    "\n",
    "for i, row in tqdm(enumerate(brca1_db6.iterrows())):\n",
    "    _, uniprot_id, pos_c, aa1_c, aa2_c, score_c, pos_a, aa1_a, aa2_a, score_a, score_a_dash, score_delta, score_a_dash, score_c_esm, score_a_esm = row[1]\n",
    "    try:\n",
    "        data = pd.read_csv(f'res_all_scores/brca1_db6/brca1_db6_all/BRCA1_db6_{aa1_c}{pos_c}{aa2_c}.modified.tsv')\n",
    "        brca1_db6.loc[i, \"Score.A'.Esm1b\"] = data[(data['row'] == aa1_a + ' ' + str(pos_a)) & (data.column == aa2_a)]['esm1b_score'].values[0]\n",
    "    except:\n",
    "        ('NO')"
   ]
  },
  {
   "cell_type": "code",
   "execution_count": 48,
   "metadata": {},
   "outputs": [
    {
     "data": {
      "text/plain": [
       "4218"
      ]
     },
     "execution_count": 48,
     "metadata": {},
     "output_type": "execute_result"
    }
   ],
   "source": [
    "brca1_db6[\"Score.A'.Esm1b\"].notna().sum()"
   ]
  },
  {
   "cell_type": "code",
   "execution_count": 34,
   "metadata": {},
   "outputs": [
    {
     "data": {
      "text/plain": [
       "(4304, 13)"
      ]
     },
     "execution_count": 34,
     "metadata": {},
     "output_type": "execute_result"
    }
   ],
   "source": [
    "brca1_db6.shape"
   ]
  },
  {
   "cell_type": "code",
   "execution_count": 49,
   "metadata": {},
   "outputs": [],
   "source": [
    "brca1_db6.to_csv('res_fin_df/brca1_db6_all.tsv', sep='\\t', index=False)"
   ]
  },
  {
   "attachments": {},
   "cell_type": "markdown",
   "metadata": {},
   "source": [
    "### BRCA1 db 8"
   ]
  },
  {
   "cell_type": "code",
   "execution_count": 3,
   "metadata": {},
   "outputs": [],
   "source": [
    "brca1_db8 = pd.read_csv(\"data_per_dataset/pairs_brca1_db8.tsv\", sep='\\t')"
   ]
  },
  {
   "cell_type": "code",
   "execution_count": 12,
   "metadata": {},
   "outputs": [
    {
     "name": "stderr",
     "output_type": "stream",
     "text": [
      "8426it [01:36, 87.30it/s]\n",
      "8426it [01:34, 89.07it/s]"
     ]
    },
    {
     "name": "stdout",
     "output_type": "stream",
     "text": [
      "CPU times: user 3min 8s, sys: 1.5 s, total: 3min 10s\n",
      "Wall time: 3min 11s\n"
     ]
    },
    {
     "name": "stderr",
     "output_type": "stream",
     "text": [
      "\n"
     ]
    }
   ],
   "source": [
    "%%time\n",
    "\n",
    "scores_c = get_esm_score_for_с(res, brca1_db8)\n",
    "scores_a = get_esm_score_for_a(res, brca1_db8)\n",
    "\n",
    "brca1_db8['Score.C.Esm1b'] = scores_c\n",
    "brca1_db8['Score.A.Esm1b'] = scores_a"
   ]
  },
  {
   "cell_type": "code",
   "execution_count": 13,
   "metadata": {},
   "outputs": [
    {
     "data": {
      "text/plain": [
       "76"
      ]
     },
     "execution_count": 13,
     "metadata": {},
     "output_type": "execute_result"
    }
   ],
   "source": [
    "brca1_db8['Score.A.Esm1b'].isna().sum()"
   ]
  },
  {
   "cell_type": "code",
   "execution_count": 14,
   "metadata": {},
   "outputs": [],
   "source": [
    "brca1_db8[\"Score.A'.Esm1b\"] = None"
   ]
  },
  {
   "cell_type": "code",
   "execution_count": 17,
   "metadata": {},
   "outputs": [
    {
     "name": "stderr",
     "output_type": "stream",
     "text": [
      "8426it [01:36, 87.21it/s] "
     ]
    },
    {
     "name": "stdout",
     "output_type": "stream",
     "text": [
      "CPU times: user 1min 33s, sys: 1.21 s, total: 1min 34s\n",
      "Wall time: 1min 36s\n"
     ]
    },
    {
     "name": "stderr",
     "output_type": "stream",
     "text": [
      "\n"
     ]
    }
   ],
   "source": [
    "%%time\n",
    "\n",
    "for i, row in tqdm(enumerate(brca1_db8.iterrows())):\n",
    "    _, uniprot_id, pos_c, aa1_c, aa2_c, score_c, pos_a, aa1_a, aa2_a, score_a, score_a_dash, score_delta, score_a_dash, score_c_esm, score_a_esm = row[1]\n",
    "    try:\n",
    "        data = pd.read_csv(f'res_all_scores/brca1_db8_all_fin/BRCA1_db8_{aa1_c}{pos_c}{aa2_c}.modified.tsv')\n",
    "        brca1_db8.loc[i, \"Score.A'.Esm1b\"] = data[(data['row'] == aa1_a + ' ' + str(pos_a)) & (data.column == aa2_a)]['esm1b_score'].values[0]\n",
    "    except:\n",
    "        ('NO')"
   ]
  },
  {
   "cell_type": "code",
   "execution_count": 18,
   "metadata": {},
   "outputs": [
    {
     "data": {
      "text/plain": [
       "152"
      ]
     },
     "execution_count": 18,
     "metadata": {},
     "output_type": "execute_result"
    }
   ],
   "source": [
    "brca1_db8[\"Score.A'.Esm1b\"].isna().sum()"
   ]
  },
  {
   "cell_type": "code",
   "execution_count": 21,
   "metadata": {},
   "outputs": [],
   "source": [
    "brca1_db8.to_csv('res_fin_df/brca1_db8_all.tsv', sep='\\t', index=False)"
   ]
  },
  {
   "attachments": {},
   "cell_type": "markdown",
   "metadata": {},
   "source": [
    "### PABP"
   ]
  },
  {
   "cell_type": "code",
   "execution_count": 50,
   "metadata": {},
   "outputs": [],
   "source": [
    "pabp = pd.read_csv(\"data_per_dataset/pairs_pabp.tsv\", sep='\\t')"
   ]
  },
  {
   "cell_type": "code",
   "execution_count": 51,
   "metadata": {},
   "outputs": [
    {
     "name": "stderr",
     "output_type": "stream",
     "text": [
      "73022it [13:04, 93.04it/s]\n",
      "73022it [13:01, 93.41it/s]"
     ]
    },
    {
     "name": "stdout",
     "output_type": "stream",
     "text": [
      "CPU times: user 25min 53s, sys: 11.9 s, total: 26min 5s\n",
      "Wall time: 26min 6s\n"
     ]
    },
    {
     "name": "stderr",
     "output_type": "stream",
     "text": [
      "\n"
     ]
    }
   ],
   "source": [
    "%%time\n",
    "\n",
    "scores_c = get_esm_score_for_с(res, pabp)\n",
    "scores_a = get_esm_score_for_a(res, pabp)\n",
    "\n",
    "pabp['Score.C.Esm1b'] = scores_c\n",
    "pabp['Score.A.Esm1b'] = scores_a"
   ]
  },
  {
   "cell_type": "code",
   "execution_count": 52,
   "metadata": {},
   "outputs": [],
   "source": [
    "pabp[\"Score.A'.Esm1b\"] = None"
   ]
  },
  {
   "cell_type": "code",
   "execution_count": 53,
   "metadata": {},
   "outputs": [
    {
     "name": "stderr",
     "output_type": "stream",
     "text": [
      "73022it [05:03, 240.84it/s]"
     ]
    },
    {
     "name": "stdout",
     "output_type": "stream",
     "text": [
      "CPU times: user 4min 58s, sys: 4.34 s, total: 5min 2s\n",
      "Wall time: 5min 3s\n"
     ]
    },
    {
     "name": "stderr",
     "output_type": "stream",
     "text": [
      "\n"
     ]
    }
   ],
   "source": [
    "%%time\n",
    "\n",
    "for i, row in tqdm(enumerate(pabp.iterrows())):\n",
    "    _, uniprot_id, pos_c, aa1_c, aa2_c, score_c, pos_a, aa1_a, aa2_a, score_a, score_a_dash, score_delta, score_a_dash, score_c_esm, score_a_esm = row[1]\n",
    "    try:\n",
    "        data = pd.read_csv(f'res_all_scores/pabp_2/pabp_all/PABP_{aa1_c}{pos_c}{aa2_c}.modified.tsv')\n",
    "        pabp.loc[i, \"Score.A'.Esm1b\"] = data[(data['row'] == aa1_a + ' ' + str(pos_a)) & (data.column == aa2_a)]['esm1b_score'].values[0]\n",
    "    except:\n",
    "        ('NO')"
   ]
  },
  {
   "cell_type": "code",
   "execution_count": 54,
   "metadata": {},
   "outputs": [
    {
     "data": {
      "text/plain": [
       "0"
      ]
     },
     "execution_count": 54,
     "metadata": {},
     "output_type": "execute_result"
    }
   ],
   "source": [
    "pabp[\"Score.A'.Esm1b\"].isna().sum()"
   ]
  },
  {
   "cell_type": "code",
   "execution_count": 55,
   "metadata": {},
   "outputs": [],
   "source": [
    "pabp.to_csv('res_fin_df/pabp_all.tsv', sep='\\t', index=False)"
   ]
  },
  {
   "attachments": {},
   "cell_type": "markdown",
   "metadata": {},
   "source": [
    "### UBE4B"
   ]
  },
  {
   "cell_type": "code",
   "execution_count": 56,
   "metadata": {},
   "outputs": [],
   "source": [
    "ube4b = pd.read_csv(\"data_per_dataset/pairs_ube4b.tsv\", sep='\\t')"
   ]
  },
  {
   "cell_type": "code",
   "execution_count": 57,
   "metadata": {},
   "outputs": [
    {
     "data": {
      "text/plain": [
       "(103798, 12)"
      ]
     },
     "execution_count": 57,
     "metadata": {},
     "output_type": "execute_result"
    }
   ],
   "source": [
    "ube4b.shape"
   ]
  },
  {
   "cell_type": "code",
   "execution_count": 58,
   "metadata": {},
   "outputs": [
    {
     "name": "stderr",
     "output_type": "stream",
     "text": [
      "103798it [18:33, 93.18it/s]\n",
      "103798it [18:32, 93.28it/s]"
     ]
    },
    {
     "name": "stdout",
     "output_type": "stream",
     "text": [
      "CPU times: user 36min 50s, sys: 17.3 s, total: 37min 7s\n",
      "Wall time: 37min 6s\n"
     ]
    },
    {
     "name": "stderr",
     "output_type": "stream",
     "text": [
      "\n"
     ]
    }
   ],
   "source": [
    "%%time\n",
    "\n",
    "scores_c = get_esm_score_for_с(res, ube4b)\n",
    "scores_a = get_esm_score_for_a(res, ube4b)\n",
    "\n",
    "ube4b['Score.C.Esm1b'] = scores_c\n",
    "ube4b['Score.A.Esm1b'] = scores_a"
   ]
  },
  {
   "cell_type": "code",
   "execution_count": 61,
   "metadata": {},
   "outputs": [],
   "source": [
    "ube4b[\"Score.A'.Esm1b\"] = None"
   ]
  },
  {
   "cell_type": "code",
   "execution_count": 62,
   "metadata": {},
   "outputs": [
    {
     "name": "stderr",
     "output_type": "stream",
     "text": [
      "103798it [13:21, 129.57it/s]"
     ]
    },
    {
     "name": "stdout",
     "output_type": "stream",
     "text": [
      "CPU times: user 13min 10s, sys: 11.3 s, total: 13min 21s\n",
      "Wall time: 13min 21s\n"
     ]
    },
    {
     "name": "stderr",
     "output_type": "stream",
     "text": [
      "\n"
     ]
    }
   ],
   "source": [
    "%%time\n",
    "\n",
    "for i, row in tqdm(enumerate(ube4b.iterrows())):\n",
    "    _, uniprot_id, pos_c, aa1_c, aa2_c, score_c, pos_a, aa1_a, aa2_a, score_a, score_a_dash, score_delta, score_a_dash, score_c_esm, score_a_esm = row[1]\n",
    "    try:\n",
    "        data = pd.read_csv(f'res_all_scores/ube4b_all/UBE4B_{aa1_c}{pos_c}{aa2_c}.modified.tsv')\n",
    "        ube4b.loc[i, \"Score.A'.Esm1b\"] = data[(data['row'] == aa1_a + ' ' + str(pos_a)) & (data.column == aa2_a)]['esm1b_score'].values[0]\n",
    "    except:\n",
    "        ('NO')"
   ]
  },
  {
   "cell_type": "code",
   "execution_count": 63,
   "metadata": {},
   "outputs": [
    {
     "data": {
      "text/plain": [
       "0"
      ]
     },
     "execution_count": 63,
     "metadata": {},
     "output_type": "execute_result"
    }
   ],
   "source": [
    "ube4b[\"Score.A'.Esm1b\"].isna().sum()"
   ]
  },
  {
   "cell_type": "code",
   "execution_count": 64,
   "metadata": {},
   "outputs": [],
   "source": [
    "ube4b.to_csv('res_fin_df/ube4b_all.tsv', sep='\\t', index=False)"
   ]
  },
  {
   "attachments": {},
   "cell_type": "markdown",
   "metadata": {},
   "source": [
    "# SPG1"
   ]
  },
  {
   "cell_type": "code",
   "execution_count": 12,
   "metadata": {},
   "outputs": [],
   "source": [
    "spg1 = pd.read_csv(\"data_per_dataset/pairs_spg1.tsv\", sep='\\t')"
   ]
  },
  {
   "cell_type": "code",
   "execution_count": 13,
   "metadata": {},
   "outputs": [
    {
     "data": {
      "text/html": [
       "<div>\n",
       "<style scoped>\n",
       "    .dataframe tbody tr th:only-of-type {\n",
       "        vertical-align: middle;\n",
       "    }\n",
       "\n",
       "    .dataframe tbody tr th {\n",
       "        vertical-align: top;\n",
       "    }\n",
       "\n",
       "    .dataframe thead th {\n",
       "        text-align: right;\n",
       "    }\n",
       "</style>\n",
       "<table border=\"1\" class=\"dataframe\">\n",
       "  <thead>\n",
       "    <tr style=\"text-align: right;\">\n",
       "      <th></th>\n",
       "      <th>#Dataset</th>\n",
       "      <th>Protein</th>\n",
       "      <th>Pos.C</th>\n",
       "      <th>AA1.C</th>\n",
       "      <th>AA2.C</th>\n",
       "      <th>Score.C</th>\n",
       "      <th>Pos.A</th>\n",
       "      <th>AA1.A</th>\n",
       "      <th>AA2.A</th>\n",
       "      <th>Score.A</th>\n",
       "      <th>Score.A'</th>\n",
       "      <th>Score.Delta</th>\n",
       "    </tr>\n",
       "  </thead>\n",
       "  <tbody>\n",
       "    <tr>\n",
       "      <th>0</th>\n",
       "      <td>maveDB_15</td>\n",
       "      <td>SPG1_STRSG</td>\n",
       "      <td>228</td>\n",
       "      <td>Q</td>\n",
       "      <td>A</td>\n",
       "      <td>0.602</td>\n",
       "      <td>229</td>\n",
       "      <td>Y</td>\n",
       "      <td>A</td>\n",
       "      <td>-0.788</td>\n",
       "      <td>-3.782</td>\n",
       "      <td>-2.994</td>\n",
       "    </tr>\n",
       "    <tr>\n",
       "      <th>1</th>\n",
       "      <td>maveDB_15</td>\n",
       "      <td>SPG1_STRSG</td>\n",
       "      <td>228</td>\n",
       "      <td>Q</td>\n",
       "      <td>A</td>\n",
       "      <td>0.602</td>\n",
       "      <td>229</td>\n",
       "      <td>Y</td>\n",
       "      <td>C</td>\n",
       "      <td>-0.699</td>\n",
       "      <td>-2.562</td>\n",
       "      <td>-1.863</td>\n",
       "    </tr>\n",
       "    <tr>\n",
       "      <th>2</th>\n",
       "      <td>maveDB_15</td>\n",
       "      <td>SPG1_STRSG</td>\n",
       "      <td>228</td>\n",
       "      <td>Q</td>\n",
       "      <td>A</td>\n",
       "      <td>0.602</td>\n",
       "      <td>229</td>\n",
       "      <td>Y</td>\n",
       "      <td>D</td>\n",
       "      <td>-6.644</td>\n",
       "      <td>-6.436</td>\n",
       "      <td>0.208</td>\n",
       "    </tr>\n",
       "    <tr>\n",
       "      <th>3</th>\n",
       "      <td>maveDB_15</td>\n",
       "      <td>SPG1_STRSG</td>\n",
       "      <td>228</td>\n",
       "      <td>Q</td>\n",
       "      <td>A</td>\n",
       "      <td>0.602</td>\n",
       "      <td>229</td>\n",
       "      <td>Y</td>\n",
       "      <td>E</td>\n",
       "      <td>-6.796</td>\n",
       "      <td>-7.562</td>\n",
       "      <td>-0.766</td>\n",
       "    </tr>\n",
       "    <tr>\n",
       "      <th>4</th>\n",
       "      <td>maveDB_15</td>\n",
       "      <td>SPG1_STRSG</td>\n",
       "      <td>228</td>\n",
       "      <td>Q</td>\n",
       "      <td>A</td>\n",
       "      <td>0.602</td>\n",
       "      <td>229</td>\n",
       "      <td>Y</td>\n",
       "      <td>F</td>\n",
       "      <td>0.076</td>\n",
       "      <td>-0.108</td>\n",
       "      <td>-0.184</td>\n",
       "    </tr>\n",
       "    <tr>\n",
       "      <th>...</th>\n",
       "      <td>...</td>\n",
       "      <td>...</td>\n",
       "      <td>...</td>\n",
       "      <td>...</td>\n",
       "      <td>...</td>\n",
       "      <td>...</td>\n",
       "      <td>...</td>\n",
       "      <td>...</td>\n",
       "      <td>...</td>\n",
       "      <td>...</td>\n",
       "      <td>...</td>\n",
       "      <td>...</td>\n",
       "    </tr>\n",
       "    <tr>\n",
       "      <th>1071829</th>\n",
       "      <td>maveDB_15</td>\n",
       "      <td>SPG1_STRSG</td>\n",
       "      <td>282</td>\n",
       "      <td>E</td>\n",
       "      <td>Y</td>\n",
       "      <td>-2.396</td>\n",
       "      <td>281</td>\n",
       "      <td>T</td>\n",
       "      <td>R</td>\n",
       "      <td>-0.088</td>\n",
       "      <td>-0.126</td>\n",
       "      <td>-0.038</td>\n",
       "    </tr>\n",
       "    <tr>\n",
       "      <th>1071830</th>\n",
       "      <td>maveDB_15</td>\n",
       "      <td>SPG1_STRSG</td>\n",
       "      <td>282</td>\n",
       "      <td>E</td>\n",
       "      <td>Y</td>\n",
       "      <td>-2.396</td>\n",
       "      <td>281</td>\n",
       "      <td>T</td>\n",
       "      <td>S</td>\n",
       "      <td>-0.252</td>\n",
       "      <td>-0.310</td>\n",
       "      <td>-0.058</td>\n",
       "    </tr>\n",
       "    <tr>\n",
       "      <th>1071831</th>\n",
       "      <td>maveDB_15</td>\n",
       "      <td>SPG1_STRSG</td>\n",
       "      <td>282</td>\n",
       "      <td>E</td>\n",
       "      <td>Y</td>\n",
       "      <td>-2.396</td>\n",
       "      <td>281</td>\n",
       "      <td>T</td>\n",
       "      <td>V</td>\n",
       "      <td>-0.580</td>\n",
       "      <td>-0.515</td>\n",
       "      <td>0.065</td>\n",
       "    </tr>\n",
       "    <tr>\n",
       "      <th>1071832</th>\n",
       "      <td>maveDB_15</td>\n",
       "      <td>SPG1_STRSG</td>\n",
       "      <td>282</td>\n",
       "      <td>E</td>\n",
       "      <td>Y</td>\n",
       "      <td>-2.396</td>\n",
       "      <td>281</td>\n",
       "      <td>T</td>\n",
       "      <td>W</td>\n",
       "      <td>-0.326</td>\n",
       "      <td>-0.796</td>\n",
       "      <td>-0.470</td>\n",
       "    </tr>\n",
       "    <tr>\n",
       "      <th>1071833</th>\n",
       "      <td>maveDB_15</td>\n",
       "      <td>SPG1_STRSG</td>\n",
       "      <td>282</td>\n",
       "      <td>E</td>\n",
       "      <td>Y</td>\n",
       "      <td>-2.396</td>\n",
       "      <td>281</td>\n",
       "      <td>T</td>\n",
       "      <td>Y</td>\n",
       "      <td>-0.593</td>\n",
       "      <td>-0.964</td>\n",
       "      <td>-0.371</td>\n",
       "    </tr>\n",
       "  </tbody>\n",
       "</table>\n",
       "<p>1071834 rows × 12 columns</p>\n",
       "</div>"
      ],
      "text/plain": [
       "          #Dataset     Protein  Pos.C AA1.C AA2.C  Score.C  Pos.A AA1.A AA2.A  \\\n",
       "0        maveDB_15  SPG1_STRSG    228     Q     A    0.602    229     Y     A   \n",
       "1        maveDB_15  SPG1_STRSG    228     Q     A    0.602    229     Y     C   \n",
       "2        maveDB_15  SPG1_STRSG    228     Q     A    0.602    229     Y     D   \n",
       "3        maveDB_15  SPG1_STRSG    228     Q     A    0.602    229     Y     E   \n",
       "4        maveDB_15  SPG1_STRSG    228     Q     A    0.602    229     Y     F   \n",
       "...            ...         ...    ...   ...   ...      ...    ...   ...   ...   \n",
       "1071829  maveDB_15  SPG1_STRSG    282     E     Y   -2.396    281     T     R   \n",
       "1071830  maveDB_15  SPG1_STRSG    282     E     Y   -2.396    281     T     S   \n",
       "1071831  maveDB_15  SPG1_STRSG    282     E     Y   -2.396    281     T     V   \n",
       "1071832  maveDB_15  SPG1_STRSG    282     E     Y   -2.396    281     T     W   \n",
       "1071833  maveDB_15  SPG1_STRSG    282     E     Y   -2.396    281     T     Y   \n",
       "\n",
       "         Score.A  Score.A'  Score.Delta  \n",
       "0         -0.788    -3.782       -2.994  \n",
       "1         -0.699    -2.562       -1.863  \n",
       "2         -6.644    -6.436        0.208  \n",
       "3         -6.796    -7.562       -0.766  \n",
       "4          0.076    -0.108       -0.184  \n",
       "...          ...       ...          ...  \n",
       "1071829   -0.088    -0.126       -0.038  \n",
       "1071830   -0.252    -0.310       -0.058  \n",
       "1071831   -0.580    -0.515        0.065  \n",
       "1071832   -0.326    -0.796       -0.470  \n",
       "1071833   -0.593    -0.964       -0.371  \n",
       "\n",
       "[1071834 rows x 12 columns]"
      ]
     },
     "execution_count": 13,
     "metadata": {},
     "output_type": "execute_result"
    }
   ],
   "source": [
    "spg1"
   ]
  },
  {
   "cell_type": "code",
   "execution_count": 16,
   "metadata": {},
   "outputs": [
    {
     "name": "stderr",
     "output_type": "stream",
     "text": [
      "1071834it [3:17:18, 90.54it/s]\n",
      "1071834it [3:17:44, 90.34it/s]\n"
     ]
    },
    {
     "name": "stdout",
     "output_type": "stream",
     "text": [
      "CPU times: user 6h 29min 45s, sys: 2min 6s, total: 6h 31min 51s\n",
      "Wall time: 6h 35min 3s\n"
     ]
    }
   ],
   "source": [
    "%%time\n",
    "\n",
    "scores_c = get_esm_score_for_с(res, spg1)\n",
    "scores_a = get_esm_score_for_a(res, spg1)\n",
    "\n",
    "spg1['Score.C.Esm1b'] = scores_c\n",
    "spg1['Score.A.Esm1b'] = scores_a"
   ]
  },
  {
   "cell_type": "code",
   "execution_count": 19,
   "metadata": {},
   "outputs": [
    {
     "data": {
      "text/plain": [
       "#Dataset             0\n",
       "Protein              0\n",
       "Pos.C                0\n",
       "AA1.C                0\n",
       "AA2.C                0\n",
       "Score.C              0\n",
       "Pos.A                0\n",
       "AA1.A                0\n",
       "AA2.A                0\n",
       "Score.A              0\n",
       "Score.A'             0\n",
       "Score.Delta          0\n",
       "Score.C.Esm1b    19484\n",
       "Score.A.Esm1b    19484\n",
       "dtype: int64"
      ]
     },
     "execution_count": 19,
     "metadata": {},
     "output_type": "execute_result"
    }
   ],
   "source": [
    "spg1.isna().sum()"
   ]
  },
  {
   "cell_type": "code",
   "execution_count": 17,
   "metadata": {},
   "outputs": [],
   "source": [
    "spg1.to_csv('res_fin_df/spg1_a_c.tsv', sep='\\t', index=False)"
   ]
  },
  {
   "cell_type": "code",
   "execution_count": 21,
   "metadata": {},
   "outputs": [],
   "source": [
    "spg1[\"Score.A'.Esm1b\"] = None"
   ]
  },
  {
   "cell_type": "code",
   "execution_count": 22,
   "metadata": {},
   "outputs": [
    {
     "name": "stderr",
     "output_type": "stream",
     "text": [
      "1071834it [58:41, 304.40it/s]\n"
     ]
    },
    {
     "name": "stdout",
     "output_type": "stream",
     "text": [
      "CPU times: user 57min 40s, sys: 51.2 s, total: 58min 31s\n",
      "Wall time: 58min 41s\n"
     ]
    }
   ],
   "source": [
    "%%time\n",
    "\n",
    "for i, row in tqdm(enumerate(spg1.iterrows())):\n",
    "    _, uniprot_id, pos_c, aa1_c, aa2_c, score_c, pos_a, aa1_a, aa2_a, score_a, score_a_dash, score_delta, score_a_dash, score_c_esm, score_a_esm = row[1]\n",
    "    try:\n",
    "        data = pd.read_csv(f'res_all_scores/spg1/SPG1_{aa1_c}{pos_c}{aa2_c}.modified.tsv')\n",
    "        spg1.loc[i, \"Score.A'.Esm1b\"] = data[(data['row'] == aa1_a + ' ' + str(pos_a)) & (data.column == aa2_a)]['esm1b_score'].values[0]\n",
    "    except:\n",
    "        ('NO')"
   ]
  },
  {
   "cell_type": "code",
   "execution_count": 24,
   "metadata": {},
   "outputs": [],
   "source": [
    "spg1.to_csv('res_fin_df/spg1_all.tsv', sep='\\t', index=False)"
   ]
  },
  {
   "cell_type": "code",
   "execution_count": 23,
   "metadata": {},
   "outputs": [
    {
     "data": {
      "text/plain": [
       "38968"
      ]
     },
     "execution_count": 23,
     "metadata": {},
     "output_type": "execute_result"
    }
   ],
   "source": [
    "spg1[\"Score.A'.Esm1b\"].isna().sum()"
   ]
  },
  {
   "cell_type": "code",
   "execution_count": null,
   "metadata": {},
   "outputs": [],
   "source": []
  }
 ],
 "metadata": {
  "kernelspec": {
   "display_name": "hse_ml",
   "language": "python",
   "name": "python3"
  },
  "language_info": {
   "codemirror_mode": {
    "name": "ipython",
    "version": 3
   },
   "file_extension": ".py",
   "mimetype": "text/x-python",
   "name": "python",
   "nbconvert_exporter": "python",
   "pygments_lexer": "ipython3",
   "version": "3.10.14"
  },
  "orig_nbformat": 4,
  "vscode": {
   "interpreter": {
    "hash": "f5eef07a7fd8005e107dfdf83f47deb1eb1418a1848ec9c52890998f550f026f"
   }
  }
 },
 "nbformat": 4,
 "nbformat_minor": 2
}
